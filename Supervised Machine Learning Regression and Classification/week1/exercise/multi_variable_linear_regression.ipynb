{
 "cells": [
  {
   "cell_type": "markdown",
   "id": "06fe1c82-baa4-4cf7-a921-cce7395ea013",
   "metadata": {},
   "source": [
    "# 机器学习练习 1 - 多变量线性回归"
   ]
  },
  {
   "cell_type": "markdown",
   "id": "136f1a9b-bc3d-427a-906d-10468d161a14",
   "metadata": {},
   "source": [
    "## 1.训练数据基本操作"
   ]
  },
  {
   "cell_type": "markdown",
   "id": "0ec131a2-9c3b-47d5-bc73-89785b65b32d",
   "metadata": {},
   "source": [
    "- 已知房屋的大小，和房间数量来预测房价，历史样本文件如`multi_variable_linear_regression.txt`"
   ]
  },
  {
   "cell_type": "markdown",
   "id": "af24b533-09e5-4416-8107-930452ac6565",
   "metadata": {},
   "source": [
    "### 1.1 加载训练样本文件，看数据特性"
   ]
  },
  {
   "cell_type": "code",
   "execution_count": 55,
   "id": "2d24e4ae-7bdf-44a5-a6bf-7f0f1b466367",
   "metadata": {},
   "outputs": [],
   "source": [
    "import math, copy\n",
    "import numpy as np\n",
    "import pandas as pd\n",
    "import matplotlib.pyplot as plt"
   ]
  },
  {
   "cell_type": "code",
   "execution_count": 56,
   "id": "09f824ce-faf4-4433-b4f7-9566a1199e65",
   "metadata": {},
   "outputs": [],
   "source": [
    "def load_data(filename):\n",
    "    \"\"\"\n",
    "    从CSV文件加载数据集\n",
    "    参数:\n",
    "        filename (str): 数据文件绝对路径\n",
    "    返回:\n",
    "        X (ndarray): (m, n) 特征矩阵 \n",
    "        y (ndarray): (m,) 目标向量\n",
    "    \"\"\"\n",
    "    data = pd.read_csv(filename, header=None, names=['Size', 'Bedrooms', 'Price'])\n",
    "    X = data.iloc[:, :-1].values  # 前n列为特征\n",
    "    y = data.iloc[:, -1].values   # 最后一列为目标值\n",
    "    return X, y, data"
   ]
  },
  {
   "cell_type": "code",
   "execution_count": 57,
   "id": "16a16a24-6984-46e7-96dd-7a7dca43ae16",
   "metadata": {},
   "outputs": [],
   "source": [
    "X, y, data = load_data('./multi_variable_linear_regression.txt')"
   ]
  },
  {
   "cell_type": "code",
   "execution_count": 58,
   "id": "ae81fdc2-0db4-4eef-8ed1-beee41f3235f",
   "metadata": {},
   "outputs": [
    {
     "data": {
      "text/html": [
       "<div>\n",
       "<style scoped>\n",
       "    .dataframe tbody tr th:only-of-type {\n",
       "        vertical-align: middle;\n",
       "    }\n",
       "\n",
       "    .dataframe tbody tr th {\n",
       "        vertical-align: top;\n",
       "    }\n",
       "\n",
       "    .dataframe thead th {\n",
       "        text-align: right;\n",
       "    }\n",
       "</style>\n",
       "<table border=\"1\" class=\"dataframe\">\n",
       "  <thead>\n",
       "    <tr style=\"text-align: right;\">\n",
       "      <th></th>\n",
       "      <th>Size</th>\n",
       "      <th>Bedrooms</th>\n",
       "      <th>Price</th>\n",
       "    </tr>\n",
       "  </thead>\n",
       "  <tbody>\n",
       "    <tr>\n",
       "      <th>0</th>\n",
       "      <td>2104</td>\n",
       "      <td>3</td>\n",
       "      <td>399900</td>\n",
       "    </tr>\n",
       "    <tr>\n",
       "      <th>1</th>\n",
       "      <td>1600</td>\n",
       "      <td>3</td>\n",
       "      <td>329900</td>\n",
       "    </tr>\n",
       "    <tr>\n",
       "      <th>2</th>\n",
       "      <td>2400</td>\n",
       "      <td>3</td>\n",
       "      <td>369000</td>\n",
       "    </tr>\n",
       "    <tr>\n",
       "      <th>3</th>\n",
       "      <td>1416</td>\n",
       "      <td>2</td>\n",
       "      <td>232000</td>\n",
       "    </tr>\n",
       "    <tr>\n",
       "      <th>4</th>\n",
       "      <td>3000</td>\n",
       "      <td>4</td>\n",
       "      <td>539900</td>\n",
       "    </tr>\n",
       "  </tbody>\n",
       "</table>\n",
       "</div>"
      ],
      "text/plain": [
       "   Size  Bedrooms   Price\n",
       "0  2104         3  399900\n",
       "1  1600         3  329900\n",
       "2  2400         3  369000\n",
       "3  1416         2  232000\n",
       "4  3000         4  539900"
      ]
     },
     "execution_count": 58,
     "metadata": {},
     "output_type": "execute_result"
    }
   ],
   "source": [
    "# 查看文件头,默认展示前5行\n",
    "data.head()"
   ]
  },
  {
   "cell_type": "code",
   "execution_count": 59,
   "id": "823f01bc-b050-4c4b-8479-68cf10166d62",
   "metadata": {},
   "outputs": [
    {
     "data": {
      "text/html": [
       "<div>\n",
       "<style scoped>\n",
       "    .dataframe tbody tr th:only-of-type {\n",
       "        vertical-align: middle;\n",
       "    }\n",
       "\n",
       "    .dataframe tbody tr th {\n",
       "        vertical-align: top;\n",
       "    }\n",
       "\n",
       "    .dataframe thead th {\n",
       "        text-align: right;\n",
       "    }\n",
       "</style>\n",
       "<table border=\"1\" class=\"dataframe\">\n",
       "  <thead>\n",
       "    <tr style=\"text-align: right;\">\n",
       "      <th></th>\n",
       "      <th>Size</th>\n",
       "      <th>Bedrooms</th>\n",
       "      <th>Price</th>\n",
       "    </tr>\n",
       "  </thead>\n",
       "  <tbody>\n",
       "    <tr>\n",
       "      <th>count</th>\n",
       "      <td>47.000000</td>\n",
       "      <td>47.000000</td>\n",
       "      <td>47.000000</td>\n",
       "    </tr>\n",
       "    <tr>\n",
       "      <th>mean</th>\n",
       "      <td>2000.680851</td>\n",
       "      <td>3.170213</td>\n",
       "      <td>340412.659574</td>\n",
       "    </tr>\n",
       "    <tr>\n",
       "      <th>std</th>\n",
       "      <td>794.702354</td>\n",
       "      <td>0.760982</td>\n",
       "      <td>125039.899586</td>\n",
       "    </tr>\n",
       "    <tr>\n",
       "      <th>min</th>\n",
       "      <td>852.000000</td>\n",
       "      <td>1.000000</td>\n",
       "      <td>169900.000000</td>\n",
       "    </tr>\n",
       "    <tr>\n",
       "      <th>25%</th>\n",
       "      <td>1432.000000</td>\n",
       "      <td>3.000000</td>\n",
       "      <td>249900.000000</td>\n",
       "    </tr>\n",
       "    <tr>\n",
       "      <th>50%</th>\n",
       "      <td>1888.000000</td>\n",
       "      <td>3.000000</td>\n",
       "      <td>299900.000000</td>\n",
       "    </tr>\n",
       "    <tr>\n",
       "      <th>75%</th>\n",
       "      <td>2269.000000</td>\n",
       "      <td>4.000000</td>\n",
       "      <td>384450.000000</td>\n",
       "    </tr>\n",
       "    <tr>\n",
       "      <th>max</th>\n",
       "      <td>4478.000000</td>\n",
       "      <td>5.000000</td>\n",
       "      <td>699900.000000</td>\n",
       "    </tr>\n",
       "  </tbody>\n",
       "</table>\n",
       "</div>"
      ],
      "text/plain": [
       "              Size   Bedrooms          Price\n",
       "count    47.000000  47.000000      47.000000\n",
       "mean   2000.680851   3.170213  340412.659574\n",
       "std     794.702354   0.760982  125039.899586\n",
       "min     852.000000   1.000000  169900.000000\n",
       "25%    1432.000000   3.000000  249900.000000\n",
       "50%    1888.000000   3.000000  299900.000000\n",
       "75%    2269.000000   4.000000  384450.000000\n",
       "max    4478.000000   5.000000  699900.000000"
      ]
     },
     "execution_count": 59,
     "metadata": {},
     "output_type": "execute_result"
    }
   ],
   "source": [
    "# 查看数据详情格式\n",
    "data.describe()"
   ]
  },
  {
   "cell_type": "code",
   "execution_count": 60,
   "id": "da930af4-0ffb-45e0-afa4-856b908b50ca",
   "metadata": {},
   "outputs": [
    {
     "data": {
      "text/plain": [
       "(47, 2)"
      ]
     },
     "execution_count": 60,
     "metadata": {},
     "output_type": "execute_result"
    }
   ],
   "source": [
    "X.shape"
   ]
  },
  {
   "cell_type": "code",
   "execution_count": 61,
   "id": "c5e27764-4d8f-4d9b-95a9-ff1a962e7a2a",
   "metadata": {},
   "outputs": [
    {
     "data": {
      "text/plain": [
       "(47,)"
      ]
     },
     "execution_count": 61,
     "metadata": {},
     "output_type": "execute_result"
    }
   ],
   "source": [
    "y.shape"
   ]
  },
  {
   "cell_type": "code",
   "execution_count": 62,
   "id": "45cbf3c0-798a-4669-b71c-9d0a078e7c74",
   "metadata": {},
   "outputs": [
    {
     "data": {
      "image/png": "[encoded data removed]",
      "text/plain": [
       "<Figure size 1200x500 with 2 Axes>"
      ]
     },
     "metadata": {},
     "output_type": "display_data"
    }
   ],
   "source": [
    "fig, axes = plt.subplots(1, 2, figsize=(12, 5))\n",
    "data.plot.scatter(x='Size', y='Price', ax=axes[0])\n",
    "data.plot.scatter(x='Bedrooms', y='Price', ax=axes[1])\n",
    "plt.tight_layout()\n",
    "plt.show()"
   ]
  },
  {
   "cell_type": "markdown",
   "id": "5b6873d3-50b4-4e28-a329-7c44a3acbe16",
   "metadata": {},
   "source": [
    "- 通过上述样本特性不难看出，其中Size和Bedrooms的数据特性差异较大，需要做归一化处理"
   ]
  },
  {
   "cell_type": "markdown",
   "id": "44519e0e-ab91-4898-bc80-8b70cb547ff5",
   "metadata": {},
   "source": [
    "### 1.2 Zscore 对样本进行归一化处理"
   ]
  },
  {
   "cell_type": "markdown",
   "id": "84c18b36-ee5a-4ec4-9fdf-5d15d871accc",
   "metadata": {},
   "source": [
    "**Z-Score归一化方程**"
   ]
  },
  {
   "cell_type": "markdown",
   "id": "17cf2f49-fa8f-43f9-8156-426f1df20b35",
   "metadata": {},
   "source": [
    "**对每个特征列的标准化计算：**\n",
    "$$ x^{(i)}_j = \\frac{x^{(i)}_j - \\mu_j}{\\sigma_j} \\tag{1-1} $$ \n",
    "\n",
    "其中：\n",
    "- 均值计算（特征j的均值）：\n",
    "  $$ \\mu_j = \\frac{1}{m} \\sum_{i=1}^m x^{(i)}_j \\tag{1-2}$$\n",
    "  \n",
    "- 标准差计算（特征j的标准差）：\n",
    "  $$ \\sigma_j = \\sqrt{\\frac{1}{m} \\sum_{i=1}^m \\left( x^{(i)}_j - \\mu_j \\right)^2 } \\tag{1-3}$$"
   ]
  },
  {
   "cell_type": "markdown",
   "id": "ea490004-cf2d-42a7-af15-6a23607c33f6",
   "metadata": {},
   "source": [
    "**Z-Score归一化方程（矩阵形式）**\n",
    "$$ \\mathbf{X}_{norm} = (\\mathbf{X} - \\mathbf{\\mu}) \\oslash \\mathbf{\\sigma} \\tag{1-4}$$\n",
    "\n",
    "其中：\n",
    "- $\\mathbf{\\mu} = \\frac{1}{m} \\mathbf{1}^T \\mathbf{X} \\in \\mathbb{R}^{1 \\times n}$（行向量）  \n",
    "- $\\mathbf{\\sigma} = \\sqrt{\\frac{1}{m} \\sum_{i=1}^m (\\mathbf{X} - \\mathbf{\\mu}) \\odot (\\mathbf{X} - \\mathbf{\\mu})} \\in \\mathbb{R}^{1 \\times n}$  \n",
    "- $\\oslash$ 表示逐元素除法"
   ]
  },
  {
   "cell_type": "markdown",
   "id": "d9888f77-0038-4875-b462-a0638829119a",
   "metadata": {},
   "source": [
    "**参数反向转换:**\n",
    "$$ \\mathbf{w}^{original} = \\mathbf{w}^{norm} \\oslash \\mathbf{\\sigma} \\tag{1-5}$$\n",
    "$$ b^{original} = b^{norm} - \\mathbf{\\mu}^T (\\mathbf{w}^{norm} \\oslash \\mathbf{\\sigma}) \\tag{1-6}$$\n",
    "\n",
    "**维度验证：**\n",
    "$$ \\underset{n \\times 1}{\\mathbf{w}^{original}} = \\underset{n \\times 1}{\\mathbf{w}^{norm}} \\oslash \\underset{n \\times 1}{\\mathbf{\\sigma}^T} $$"
   ]
  },
  {
   "cell_type": "markdown",
   "id": "78abe111-075c-4de9-9b7a-0da96dcd5251",
   "metadata": {},
   "source": [
    "**定义函数如下：**"
   ]
  },
  {
   "cell_type": "code",
   "execution_count": 63,
   "id": "c801f244-626a-4b35-9fb5-7b9a663ee60b",
   "metadata": {},
   "outputs": [],
   "source": [
    "def zscore_normalize(X):\n",
    "    \"\"\"\n",
    "    Z-Score标准化\n",
    "    参数:\n",
    "        X (ndarray): (m, n)原始特征矩阵\n",
    "    返回:\n",
    "        X_norm (ndarray): (m, n)标准化后矩阵\n",
    "        μ (ndarray): (n,)特征均值向量\n",
    "        σ (ndarray): (n,)特征标准差向量\n",
    "    \"\"\"\n",
    "    μ = np.mean(X, axis=0, keepdims=True)  # 保持二维结构\n",
    "    σ = np.std(X, axis=0, keepdims=True)\n",
    "    X_norm = (X - μ) / σ\n",
    "    return X_norm, μ.flatten(), σ.flatten()  # 转换为一维"
   ]
  },
  {
   "cell_type": "code",
   "execution_count": 64,
   "id": "856f704e-6e0c-42af-8c5e-dc548cdbf1c7",
   "metadata": {},
   "outputs": [],
   "source": [
    "X_norm, X_μ, X_σ = zscore_normalize(X)"
   ]
  },
  {
   "cell_type": "code",
   "execution_count": 65,
   "id": "86bb3dd7-8761-4d6b-a83c-b1d6ee304c35",
   "metadata": {},
   "outputs": [
    {
     "name": "stdout",
     "output_type": "stream",
     "text": [
      "[[ 1.31415422e-01 -2.26093368e-01]\n",
      " [-5.09640698e-01 -2.26093368e-01]\n",
      " [ 5.07908699e-01 -2.26093368e-01]\n",
      " [-7.43677059e-01 -1.55439190e+00]\n",
      " [ 1.27107075e+00  1.10220517e+00]\n",
      " [-1.99450507e-02  1.10220517e+00]\n",
      " [-5.93588523e-01 -2.26093368e-01]\n",
      " [-7.29685755e-01 -2.26093368e-01]\n",
      " [-7.89466782e-01 -2.26093368e-01]\n",
      " [-6.44465993e-01 -2.26093368e-01]\n",
      " [-7.71822042e-02  1.10220517e+00]\n",
      " [-8.65999486e-04 -2.26093368e-01]\n",
      " [-1.40779041e-01 -2.26093368e-01]\n",
      " [ 3.15099326e+00  2.43050370e+00]\n",
      " [-9.31923697e-01 -2.26093368e-01]\n",
      " [ 3.80715024e-01  1.10220517e+00]\n",
      " [-8.65782986e-01 -1.55439190e+00]\n",
      " [-9.72625673e-01 -2.26093368e-01]\n",
      " [ 7.73743478e-01  1.10220517e+00]\n",
      " [ 1.31050078e+00  1.10220517e+00]\n",
      " [-2.97227261e-01 -2.26093368e-01]\n",
      " [-1.43322915e-01 -1.55439190e+00]\n",
      " [-5.04552951e-01 -2.26093368e-01]\n",
      " [-4.91995958e-02  1.10220517e+00]\n",
      " [ 2.40309445e+00 -2.26093368e-01]\n",
      " [-1.14560907e+00 -2.26093368e-01]\n",
      " [-6.90255715e-01 -2.26093368e-01]\n",
      " [ 6.68172729e-01 -2.26093368e-01]\n",
      " [ 2.53521350e-01 -2.26093368e-01]\n",
      " [ 8.09357707e-01 -2.26093368e-01]\n",
      " [-2.05647815e-01 -1.55439190e+00]\n",
      " [-1.27280274e+00 -2.88269044e+00]\n",
      " [ 5.00114703e-02  1.10220517e+00]\n",
      " [ 1.44532608e+00 -2.26093368e-01]\n",
      " [-2.41262044e-01  1.10220517e+00]\n",
      " [-7.16966387e-01 -2.26093368e-01]\n",
      " [-9.68809863e-01 -2.26093368e-01]\n",
      " [ 1.67029651e-01  1.10220517e+00]\n",
      " [ 2.81647389e+00  1.10220517e+00]\n",
      " [ 2.05187753e-01  1.10220517e+00]\n",
      " [-4.28236746e-01 -1.55439190e+00]\n",
      " [ 3.01854946e-01 -2.26093368e-01]\n",
      " [ 7.20322135e-01  1.10220517e+00]\n",
      " [-1.01841540e+00 -2.26093368e-01]\n",
      " [-1.46104938e+00 -1.55439190e+00]\n",
      " [-1.89112638e-01  1.10220517e+00]\n",
      " [-1.01459959e+00 -2.26093368e-01]]\n"
     ]
    }
   ],
   "source": [
    "print(X_norm)"
   ]
  },
  {
   "cell_type": "code",
   "execution_count": 66,
   "id": "9be1eab1-3944-475b-8c05-9e2d8af90e3e",
   "metadata": {},
   "outputs": [
    {
     "name": "stdout",
     "output_type": "stream",
     "text": [
      "[2000.68085106    3.17021277]\n"
     ]
    }
   ],
   "source": [
    "print(X_μ)"
   ]
  },
  {
   "cell_type": "code",
   "execution_count": 67,
   "id": "7a56f037-0ae8-4679-b485-d50a5ea7cc2d",
   "metadata": {},
   "outputs": [
    {
     "name": "stdout",
     "output_type": "stream",
     "text": [
      "[7.86202619e+02 7.52842809e-01]\n"
     ]
    }
   ],
   "source": [
    "print(X_σ)"
   ]
  },
  {
   "cell_type": "markdown",
   "id": "92edf00b-e17c-4297-8f9e-cd006be5db8a",
   "metadata": {},
   "source": [
    "## 2. 线性回归模型介绍"
   ]
  },
  {
   "cell_type": "markdown",
   "id": "49d37059-208b-4575-8a47-56789aadd7e9",
   "metadata": {},
   "source": [
    "### 2.1 线性回归方程"
   ]
  },
  {
   "cell_type": "markdown",
   "id": "6dc710b2-9e46-4559-a61c-732d069ba528",
   "metadata": {},
   "source": [
    "**单变量线性回归方程标量形式**\n",
    "\n",
    "$$f_{{w},b}({x}) = {w} \\cdot {x} + b \\tag{2-1}$$\n",
    "\n",
    "其中:\n",
    "- w: 权重（斜率）\n",
    "- b: 偏置（截距）\n",
    "- x: 输入特征（单变量）"
   ]
  },
  {
   "cell_type": "markdown",
   "id": "0a221fd3-ccf9-4e17-9c5f-ba718bc09f3e",
   "metadata": {},
   "source": [
    "**多变量线性回归方程向量形式：**\n",
    "\n",
    "$$ f(\\mathbf{w},b) = \\mathbf{w}^T \\mathbf{x} + b \\tag{2-2}$$\n",
    "\n",
    "其中：\n",
    "- $\\mathbf{w} \\in \\mathbb{R}^{n \\times 1}$ 为权重列向量  \n",
    "- $\\mathbf{x} \\in \\mathbb{R}^{n \\times 1}$ 为单个样本的特征向量  \n",
    "- $b \\in \\mathbb{R}$ 为标量偏置项"
   ]
  },
  {
   "cell_type": "markdown",
   "id": "d757d145-5c48-4247-8efb-7b30b6e0a749",
   "metadata": {},
   "source": [
    "假设有 n 个特征，每个样本的特征向量为$\\mathbf{x} = \\begin{bmatrix} x_1 & x_2 & x_3 \\dots x_n \\end{bmatrix}$, 权重向量$\\mathbf{w} = \\begin{bmatrix} w_1 & w_2 & w_3 \\dots \\end{bmatrix}^T$,偏置为b。将偏置b合并到权重向量中，并添加一个值为 1 的虚拟特征到样本输入矩阵"
   ]
  },
  {
   "cell_type": "markdown",
   "id": "726916df-89ce-45de-885b-c0d502909a86",
   "metadata": {},
   "source": [
    "对m个样本，每个样本扩展为$\\mathbf{x}^{(i)} = \\begin{bmatrix} 1 & x_1^{(i)} & x_2^{(i)} \\dots x_n^{(i)} \\end{bmatrix}$"
   ]
  },
  {
   "cell_type": "markdown",
   "id": "f09325e6-b9d3-4d6e-a45e-42fc760b90c1",
   "metadata": {},
   "source": [
    "对应的扩展X矩阵为：\n",
    "$$\\mathbf{X} = \n",
    "\\begin{bmatrix} \n",
    "    \\mathbf{x}^{(1)} \\\\\n",
    "    \\mathbf{x}^{(2)} \\\\\n",
    "    \\vdots \\\\\n",
    "    \\mathbf{x}^{(n)} \\\\\n",
    "\\end{bmatrix} \\\\\n",
    "= \\\\ \n",
    "\\begin{bmatrix} \n",
    "    1 & x_1^{(1)} & x_2^{(1)} & \\cdots & x_n^{(1)} \\\\ \n",
    "    1 & x_1^{(2)} & x_2^{(2)} & \\cdots & x_n^{(2)} \\\\ \n",
    "    \\vdots & \\vdots & \\vdots & \\ddots & \\vdots \\\\ \n",
    "    1 & x_1^{(m)} & x_2^{(m)} & \\cdots & x_n^{(m)} \n",
    "\\end{bmatrix}\n",
    "$$\n",
    "\n",
    "扩展权重向量$\\mathbf{\\theta}$为:\n",
    "\n",
    "$$\n",
    "\\mathbf{\\theta} = \\begin{bmatrix}\n",
    "b \\\\\n",
    "w_1 \\\\\n",
    "w_2 \\\\\n",
    "\\vdots \\\\\n",
    "w_n\n",
    "\\end{bmatrix}\n",
    "$$"
   ]
  },
  {
   "cell_type": "markdown",
   "id": "baf2279a-c786-41b1-b9aa-bc802e062351",
   "metadata": {},
   "source": [
    "**回归方程（增广矩阵形式）**\n",
    "\n",
    "$$ \\mathbf{\\hat{y}} = f_\\mathbf{\\theta}(\\mathbf{X})= \\mathbf{X} \\mathbf{\\theta} \\tag{2-3}$$\n",
    "\n",
    "其中：\n",
    "- $\\mathbf{X} = [\\mathbf{1} \\quad \\mathbf{X}_{原始}] \\in \\mathbb{R}^{m \\times (n+1)}$（添加全1列的增广矩阵）  \n",
    "- $\\mathbf{\\theta} = \\begin{bmatrix} b \\\\ \\mathbf{w} \\end{bmatrix} \\in \\mathbb{R}^{(n+1) \\times 1}$"
   ]
  },
  {
   "cell_type": "markdown",
   "id": "ad7ae15c-829c-4cfa-b786-7e4e2dafc7c0",
   "metadata": {},
   "source": [
    "### 2.2 cost function 成本函数"
   ]
  },
  {
   "cell_type": "markdown",
   "id": "b5720a11-456d-4b54-8fb9-a30ce5c6abf6",
   "metadata": {},
   "source": [
    "**标量形式的MSE定义**"
   ]
  },
  {
   "cell_type": "markdown",
   "id": "606796f9-0dff-4854-8401-e7ae99548bd1",
   "metadata": {},
   "source": [
    "对于 m 个样本和 n 个特征，标量形式的均方误差为：\n",
    "$$ J(\\mathbf{\\theta}) = \\frac{1}{2m} \\sum_{i=1}^m \\left( \\mathbf{w}^T \\mathbf{x}^{(i)} + b - y^{(i)} \\right)^2 \\tag{2-4}$$"
   ]
  },
  {
   "cell_type": "markdown",
   "id": "71370c4f-aa30-4c40-bfd9-e106c138fd73",
   "metadata": {},
   "source": [
    "结合公式2-3 均方误差（MSE）定义为："
   ]
  },
  {
   "cell_type": "markdown",
   "id": "bf7aade8-7933-4562-950c-c90b580add3d",
   "metadata": {},
   "source": [
    "$$J(\\mathbf{\\theta}) = \\frac{1}{2m} \\cdot \\sum\\limits_{i = 1}^{m} (f_{\\mathbf{\\theta}}(\\mathbf{X}^{(i)}) - y^{(i)})^2 \\tag{2-5}$$ "
   ]
  },
  {
   "cell_type": "markdown",
   "id": "4bd251e2-2b00-404a-8705-65009134d87e",
   "metadata": {},
   "source": [
    "定义误差向量\n",
    "$ \\mathbf{\\epsilon} = \\mathbf{X}\\mathbf{\\theta} - \\mathbf{y} $"
   ]
  },
  {
   "cell_type": "markdown",
   "id": "351eedcc-3d1c-4889-bda1-f13c2365ec17",
   "metadata": {},
   "source": [
    "将其代入到公式(2-5)\n",
    "$$J(\\mathbf{\\theta}) = \\frac{1}{2m} \\cdot \\sum\\limits_{i = 1}^{m} \\mathbf{\\epsilon}_{(i)}^2 \\tag{2-6}$$ "
   ]
  },
  {
   "cell_type": "markdown",
   "id": "97c6e9c8-434b-488e-b9b6-ab521c8b4750",
   "metadata": {},
   "source": [
    "标量形式的平方和可等价表示为：\n",
    "$$ \n",
    "\\sum_{i=1}^m \\epsilon_i^2 = \n",
    "\\epsilon^T \\epsilon = \n",
    "\\begin{bmatrix}\n",
    "    \\epsilon_1 \\\\\n",
    "    \\vdots \\\\\n",
    "    \\epsilon_n\n",
    "\\end{bmatrix}  \\times \n",
    "\\begin{bmatrix} \n",
    "    \\epsilon_1 & \n",
    "    \\dots \n",
    "    \\epsilon_n \n",
    "\\end{bmatrix}\n",
    "\\tag{2-7}\n",
    "$$"
   ]
  },
  {
   "cell_type": "markdown",
   "id": "fd0be939-407b-4914-a2cf-798ff7af7608",
   "metadata": {},
   "source": [
    "代入误差向量可得到：\n",
    "$$ \\sum_{i=1}^m \\epsilon_i^2 = (\\mathbf{X}\\mathbf{\\theta} - \\mathbf{y})^T (\\mathbf{X}\\mathbf{\\theta} - \\mathbf{y}) \\tag{2-8}$$"
   ]
  },
  {
   "cell_type": "markdown",
   "id": "e6ac2b38-88d8-4460-8e17-468f4ddbf2e2",
   "metadata": {},
   "source": [
    "**矩阵形式MSE** \n",
    " - 将平方和(2-8)代入标量形式MSE(2-4 或 2-5)：\n",
    "$$ J(\\mathbf{\\theta}) = \\frac{1}{2m} (\\mathbf{X}\\mathbf{\\theta} - \\mathbf{y})^T (\\mathbf{X}\\mathbf{\\theta} - \\mathbf{y}) \\tag{2-9}$$"
   ]
  },
  {
   "cell_type": "markdown",
   "id": "854c0240-74e5-4429-be63-c9cc28a4bd2c",
   "metadata": {},
   "source": [
    "### 2.3. 成本函数的偏导（矩阵形式）"
   ]
  },
  {
   "cell_type": "markdown",
   "id": "2c814096-64b2-43d7-8893-3f6e80a29e22",
   "metadata": {},
   "source": [
    "#### 2.3.1 展开$J(\\mathbf{\\theta})$,并对其简化**"
   ]
  },
  {
   "cell_type": "markdown",
   "id": "5d6f3fc1-f43a-4364-b68f-5d831cae4e42",
   "metadata": {},
   "source": [
    "首先展开公式$J(\\theta)$ 公式（2-9）:\n",
    "$$\n",
    "J(\\mathbf{\\theta}) = \\frac{1}{2m} \n",
    "(\n",
    "\\begin{aligned}\n",
    "\\mathbf{\\theta}^T \\mathbf{X}^T \\mathbf{X}\\mathbf{\\theta} - \\mathbf{\\theta}^T \\mathbf{X}^T \\mathbf{y} - \\mathbf{y}^T \\mathbf{X}\\mathbf{\\theta} + \\mathbf{y}^T \\mathbf{y}\n",
    "\\end{aligned}\n",
    ")\n",
    "\\tag{2-10}\n",
    "$$"
   ]
  },
  {
   "cell_type": "markdown",
   "id": "f98f4320-b5c5-4e89-805b-fc23941b952e",
   "metadata": {},
   "source": [
    "由于标量的转置等于自身,对其转换有：\n",
    "$$\n",
    "\\mathbf{y}^T \\mathbf{X}\\mathbf{\\theta} = (\\mathbf{X}\\mathbf{\\theta})^T \\mathbf{y} = \\mathbf{\\theta}^T \\mathbf{X}^T \\mathbf{y} \\tag{2-11}\n",
    "$$\n",
    "\n",
    "从而得到：\n",
    "$$ \n",
    "-\\mathbf{\\theta}^T \\mathbf{X}^T \\mathbf{y} - \\mathbf{y}^T \\mathbf{X}\\mathbf{\\theta} = -2\\mathbf{\\theta}^T \\mathbf{X}^T \\mathbf{y} \\tag{2-12}\n",
    "$$\n",
    "\n",
    "最后得到：\n",
    "$$ \n",
    "J(\\mathbf{\\theta}) = \\frac{1}{2m} \\left( \\mathbf{\\theta}^T \\mathbf{X}^T \\mathbf{X}\\mathbf{\\theta} - 2\\mathbf{\\theta}^T \\mathbf{X}^T \\mathbf{y} + \\mathbf{y}^T \\mathbf{y} \\right) \\tag{2-13}\n",
    "$$"
   ]
  },
  {
   "cell_type": "markdown",
   "id": "9cd0e7fc-5d78-48d0-99ea-4c0a23d24f44",
   "metadata": {},
   "source": [
    "#### 2.3.2 基于公式(2-13)对$\\theta$求偏导\n",
    "- 可参考[合集·【矩阵的导数运算】_DR_CAN合集][链接标识]\n",
    "\n",
    "[链接标识]: https://space.bilibili.com/230105574/lists/1814753?type=season"
   ]
  },
  {
   "cell_type": "markdown",
   "id": "08a525b4-bc92-4725-b58d-7791e035c563",
   "metadata": {},
   "source": [
    "**(1)线性项求导规则**\n",
    "$$\n",
    "\\frac{\\partial}{\\partial \\mathbf{\\theta}} \\left( \\mathbf{B}\\mathbf{\\theta} \\right) = \\mathbf{B}^T \\tag{2-14}\n",
    "$$\n",
    "\n",
    "- $\\mathbf{B}$为矩阵\n",
    "- $\\mathbf{\\theta}$ 为向量"
   ]
  },
  {
   "cell_type": "markdown",
   "id": "cf18c0f1-fbf8-47d1-98eb-7fe51b680b2b",
   "metadata": {},
   "source": [
    "**(2)二次型求导规则**\n",
    "$$\n",
    "\\frac{\\partial}{\\partial \\mathbf{\\theta}} \\left( \\mathbf{\\theta}^T \\mathbf{A} \\mathbf{\\theta} \\right) = \\mathbf{A}\\mathbf{\\theta} + \\mathbf{A}^T\\mathbf{\\theta} \\tag{2-15}\n",
    "$$\n",
    "\n",
    "- 其中$\\mathbf{A}为矩阵$\n",
    "- 并且当$\\mathbf{A}$为对称矩阵时有：\n",
    "\n",
    "$$\n",
    "\\frac{\\partial}{\\partial \\mathbf{\\theta}} \\left( \\mathbf{\\theta}^T \\mathbf{A} \\mathbf{\\theta} \\right) = 2\\mathbf{A}\\mathbf{\\theta} \\tag{2-16}\n",
    "$$"
   ]
  },
  {
   "cell_type": "markdown",
   "id": "071f71e9-235b-4d7b-ab01-1953d805b46e",
   "metadata": {},
   "source": [
    "**(3) 对公式2-13进行逐项求导**\n",
    "\n",
    "- ​**第一项**​：该步骤将$\\mathbf{X}^T \\mathbf{X} 看成\\mathbf{A} 并且一定是一个对称矩阵 (根据2-15和2-16) 有$\n",
    "$$ \n",
    "\\frac{\\partial}{\\partial \\mathbf{\\theta}} (\\mathbf{\\theta}^T \\mathbf{X}^T \\mathbf{X}\\mathbf{\\theta}) = 2\\mathbf{X}^T \\mathbf{X}\\mathbf{\\theta}\n",
    "\\tag{2-17}\n",
    "$$\n",
    "- ​**第二项**​：(根据2-14) 有\n",
    "$$ \n",
    "\\frac{\\partial}{\\partial \\mathbf{\\theta}} (-2\\mathbf{\\theta}^T \\mathbf{X}^T \\mathbf{y}) = \n",
    "\\frac{\\partial}{\\partial \\mathbf{\\theta}} (-2\\mathbf{\\theta} (\\mathbf{X}^T \\mathbf{y})^T) =\n",
    "-2\\mathbf{X}^T \\mathbf{y}\n",
    "\\tag{2-18}\n",
    "$$\n",
    "\n",
    "- ​**第三项**​：\n",
    "$$ \n",
    "\\frac{\\partial}{\\partial \\mathbf{\\theta}} (\\mathbf{y}^T \\mathbf{y}) = \\mathbf{0}\n",
    "\\tag{2-19}\n",
    "$$"
   ]
  },
  {
   "cell_type": "markdown",
   "id": "fbc79e4c-2936-4b3d-a0ba-70ee80aa0140",
   "metadata": {},
   "source": [
    "**(4) 结合公式2-17~2-19可得到$\\nabla_{\\mathbf{\\theta}} J$:**\n",
    "$$ \n",
    "\\nabla_{\\mathbf{\\theta}} J = \n",
    "\\frac{\\partial J}{\\partial \\mathbf{\\theta}} =\n",
    "\\frac{1}{2m} \n",
    "\\left( \n",
    "    2\\mathbf{X}^T \\mathbf{X}\\mathbf{\\theta} -2\\mathbf{X}^T \\mathbf{y} \n",
    "\\right) = \n",
    "\\frac{1}{m} \\mathbf{X}^T \n",
    "\\left(\n",
    "    \\mathbf{X}\\mathbf{\\theta} - \\mathbf{y}\n",
    "\\right)\n",
    "\\tag{2-20}\n",
    "$$"
   ]
  },
  {
   "cell_type": "markdown",
   "id": "2be8ca5e-551b-4f39-8042-ff468c217879",
   "metadata": {},
   "source": [
    "### 2.4. 梯度下降（矩阵形式）"
   ]
  },
  {
   "cell_type": "markdown",
   "id": "52f88adf-f4ca-4a55-8e1d-4737a94d6d94",
   "metadata": {},
   "source": [
    "更新规则:\n",
    "$$ \\mathbf{\\theta} := \\mathbf{\\theta} - \\alpha \\nabla_{\\mathbf{\\theta}} J \\tag{2-21}$$"
   ]
  },
  {
   "cell_type": "markdown",
   "id": "347d1509-79dc-4be6-90c6-f0e8971d1393",
   "metadata": {},
   "source": [
    " - 其中$ \\alpha: 学习率（步长）$"
   ]
  },
  {
   "cell_type": "markdown",
   "id": "566bd9e6-cdd8-490e-8509-cdea49d799b7",
   "metadata": {},
   "source": [
    "## 3 实现数据训练"
   ]
  },
  {
   "cell_type": "code",
   "execution_count": 68,
   "id": "dc45f9f7-a0f7-425a-8bdb-8ec6be7956f6",
   "metadata": {},
   "outputs": [],
   "source": [
    "def compute_cost(X, y, theta):\n",
    "    \"\"\"\n",
    "    计算线性回归成本函数\n",
    "    参数:\n",
    "        X (ndarray): (m, n+1)增广特征矩阵\n",
    "        y (ndarray): (m,)目标向量\n",
    "        theta (ndarray): (n+1,)参数向量 [b, w1, w2,...wn]^T\n",
    "    返回:\n",
    "        J (float): 成本函数值\n",
    "    \"\"\"\n",
    "    m = X.shape[0]\n",
    "    error = X @ theta - y\n",
    "    return (error.T @ error) / (2 * m)"
   ]
  },
  {
   "cell_type": "code",
   "execution_count": 69,
   "id": "b7b8f849-38a8-4ade-beb2-a0e418c930ee",
   "metadata": {},
   "outputs": [],
   "source": [
    "def compute_gradient(X, y, theta):\n",
    "    \"\"\"\n",
    "    计算参数梯度\n",
    "    参数:\n",
    "        X (ndarray): (m, n+1)增广特征矩阵\n",
    "        y (ndarray): (m,)目标向量\n",
    "        theta (ndarray): (n+1,)当前参数向量\n",
    "    返回:\n",
    "        gradient (ndarray): (n+1,)梯度向量\n",
    "    \"\"\"\n",
    "    return (X.T @ (X @ theta - y)) / X.shape[0]"
   ]
  },
  {
   "cell_type": "code",
   "execution_count": 70,
   "id": "54633d87-9dcd-4b49-b250-6b4f24609c42",
   "metadata": {},
   "outputs": [],
   "source": [
    "def gradient_descent(X, y, theta_init, alpha, iterations):\n",
    "    \"\"\"\n",
    "    执行梯度下降优化\n",
    "    参数:\n",
    "        X (ndarray): (m, n+1)增广特征矩阵\n",
    "        y (ndarray): (m,)目标向量\n",
    "        theta_init (ndarray): (n+1,)初始参数向量\n",
    "        alpha (float): 学习率\n",
    "        iterations (int): 迭代次数\n",
    "    返回:\n",
    "        w (ndarray): (n+1,)优化后的参数向量\n",
    "        cost_history (list): 每次迭代的成本值记录\n",
    "    \"\"\"\n",
    "    theta = theta_init.copy()\n",
    "    cost_history = []\n",
    "    for i in range(iterations):\n",
    "        grad = compute_gradient(X, y, theta)\n",
    "        # 公式 2-21\n",
    "        theta -= alpha * grad\n",
    "        # cost_history.append(compute_cost(X, y, theta))\n",
    "        if i < 100000:\n",
    "            cost_history.append(compute_cost(X, y, theta))\n",
    "            \n",
    "        if i % math.ceil(iterations/10) == 0 or i == iterations - 1:\n",
    "            print(\n",
    "                f\"Iteration {i:4}: Cost {cost_history[-1]:0.2e} \",\n",
    "                f\"theta {theta}\"\n",
    "            )\n",
    "        # Print cost every at intervals 10 times or as many iterations if < 10    \n",
    "        #if i % math.ceil(iterations/10) == 0 or i == iterations - 1:\n",
    "        # 每50次迭代会打印一次\n",
    "        # if i % 50 == 0 or i == iterations - 1: \n",
    "            # print(\n",
    "            #     f\"Iteration {i:4}: Cost {J_history[-1]:0.2e} \",\n",
    "            #     f\"dj_dw: {dj_dw.flatten()}\",  # 展平数组\n",
    "            #     f\"w: {w.flatten()}\"\n",
    "            # )\n",
    "    return theta, cost_history"
   ]
  },
  {
   "cell_type": "code",
   "execution_count": 71,
   "id": "a8cc39bc-b0a1-47a6-bda2-1ab84455927f",
   "metadata": {},
   "outputs": [
    {
     "data": {
      "text/plain": [
       "(47, 3)"
      ]
     },
     "execution_count": 71,
     "metadata": {},
     "output_type": "execute_result"
    }
   ],
   "source": [
    "# 3. 构建增广矩阵（修改列顺序）\n",
    "X_b = np.insert(X_norm, 0, 1, axis=1)  # 在0列位置插入全1列\n",
    "X_b.shape"
   ]
  },
  {
   "cell_type": "code",
   "execution_count": 72,
   "id": "9fcaaaec-9331-49f0-ae4c-0baac49edc7c",
   "metadata": {},
   "outputs": [],
   "source": [
    "m, n = X_b.shape"
   ]
  },
  {
   "cell_type": "code",
   "execution_count": 73,
   "id": "7a11d41e-d345-49a2-bec6-03a49949a490",
   "metadata": {},
   "outputs": [
    {
     "data": {
      "text/plain": [
       "(3,)"
      ]
     },
     "execution_count": 73,
     "metadata": {},
     "output_type": "execute_result"
    }
   ],
   "source": [
    "# 4. 初始化参数向量（b在0号位置）\n",
    "theta = np.zeros(n)  # θ = [b, w1, w2, ..., wn]^T\n",
    "theta.shape"
   ]
  },
  {
   "cell_type": "code",
   "execution_count": 74,
   "id": "7e82f87b-f215-4112-bf0b-5589e236660a",
   "metadata": {},
   "outputs": [
    {
     "name": "stdout",
     "output_type": "stream",
     "text": [
      "Iteration    0: Cost 6.43e+10  theta [3404.12659574 1057.64133493  547.08821756]\n",
      "Iteration 1000: Cost 2.04e+09  theta [340398.11049571 108745.75920605  -5876.33262918]\n",
      "Iteration 2000: Cost 2.04e+09  theta [340412.65894637 109439.26349627  -6569.82188079]\n",
      "Iteration 3000: Cost 2.04e+09  theta [340412.65957444 109447.69275376  -6578.25113828]\n",
      "Iteration 4000: Cost 2.04e+09  theta [340412.65957447 109447.795209    -6578.35359352]\n",
      "Iteration 5000: Cost 2.04e+09  theta [340412.65957447 109447.79645432  -6578.35483884]\n",
      "Iteration 6000: Cost 2.04e+09  theta [340412.65957447 109447.79646946  -6578.35485398]\n",
      "Iteration 7000: Cost 2.04e+09  theta [340412.65957447 109447.79646964  -6578.35485416]\n",
      "Iteration 8000: Cost 2.04e+09  theta [340412.65957447 109447.79646964  -6578.35485416]\n",
      "Iteration 9000: Cost 2.04e+09  theta [340412.65957447 109447.79646964  -6578.35485416]\n",
      "Iteration 9999: Cost 2.04e+09  theta [340412.65957447 109447.79646964  -6578.35485416]\n",
      "theta_final found by gradient descent: [340412.65957447 109447.79646964  -6578.35485416]\n",
      "归一化参数：\n",
      "b: 340412.6596\n",
      "w: [109447.79646964  -6578.35485416]\n",
      "\n",
      "原始尺度参数：\n",
      "b: 89597.9095\n",
      "w: [  139.21067402 -8738.01911233]\n"
     ]
    }
   ],
   "source": [
    "alpha = 1.0e-2\n",
    "iterations = 10000\n",
    "theta_final, cost_hist = gradient_descent(X_b, y, theta, alpha, iterations)\n",
    "print(f\"theta_final found by gradient descent: {theta_final}\")\n",
    "\n",
    "#  参数反向转换（数学推导）公式 1-5 和 1-6\n",
    "\"\"\"\n",
    "原始模型公式：\n",
    "y = b + Σ(w_j * (x_j - μ_j)/σ_j)\n",
    "   = b - Σ(w_jμ_j/σ_j) + Σ(w_j/σ_j)x_j\n",
    "   \n",
    "令：\n",
    "b_original = b - Σ(w_jμ_j/σ_j)\n",
    "w_original_j = w_j/σ_j\n",
    "\"\"\"\n",
    "w_norm = theta_final[1:]      # 获取归一化后的权重（排除b）\n",
    "b_norm = theta_final[0]       # 获取归一化后的偏置\n",
    "\n",
    "w_original = w_norm / X_σ     # w_j = w_norm_j / σ_j\n",
    "b_original = b_norm - np.dot(w_norm, X_μ / X_σ)  # b = b_norm - Σ(w_norm_jμ_j/σ_j)\n",
    "\n",
    "# 8. 结果输出\n",
    "print(f\"归一化参数：\\nb: {b_norm:.4f}\\nw: {w_norm}\")\n",
    "print(f\"\\n原始尺度参数：\\nb: {b_original:.4f}\\nw: {w_original}\")\n",
    "\n",
    "# f_wb = X @ w_original + b_original\n",
    "f_wb = X_b @ theta_final"
   ]
  },
  {
   "cell_type": "code",
   "execution_count": 75,
   "id": "4d6cb360-b8bb-4957-b178-1e81c6bfbd31",
   "metadata": {},
   "outputs": [
    {
     "data": {
      "image/png": "[encoded data removed]",
      "text/plain": [
       "<Figure size 1200x400 with 2 Axes>"
      ]
     },
     "metadata": {},
     "output_type": "display_data"
    }
   ],
   "source": [
    "# plot cost versus iteration  \n",
    "fig, (ax1, ax2) = plt.subplots(1, 2, constrained_layout=True, figsize=(12,4))\n",
    "ax1.plot(cost_hist[:1000]) #前100次迭代\n",
    "ax2.plot(1000 + np.arange(len(cost_hist[1000:])), cost_hist[1000:]) # 1000次之后的迭代\n",
    "ax1.set_title(\"Cost vs. iteration(start)\");  \n",
    "ax2.set_title(\"Cost vs. iteration (end)\")\n",
    "ax1.set_ylabel('Cost')            ;  \n",
    "ax2.set_ylabel('Cost') \n",
    "ax1.set_xlabel('iteration step')  ;  \n",
    "ax2.set_xlabel('iteration step') \n",
    "plt.show()"
   ]
  },
  {
   "cell_type": "code",
   "execution_count": 76,
   "id": "a3bda200-a24f-47dd-9c28-5cd090cc1d1f",
   "metadata": {},
   "outputs": [
    {
     "data": {
      "image/png": "[encoded data removed]",
      "text/plain": [
       "<Figure size 1200x500 with 2 Axes>"
      ]
     },
     "metadata": {},
     "output_type": "display_data"
    }
   ],
   "source": [
    "# 9. 可视化（取第一特征展示）\n",
    "plt.figure(figsize=(12,5))\n",
    "\n",
    "# 成本函数曲线\n",
    "plt.subplot(1,2,1)\n",
    "plt.plot(cost_hist)\n",
    "plt.title(\"Cost Function J(θ)\")\n",
    "plt.xlabel(\"Iterations\")\n",
    "\n",
    "# 预测结果（使用原始数据的第一特征）\n",
    "plt.subplot(1,2,2)\n",
    "\n",
    "# plt.scatter(X[:,0], y, alpha=0.6, label=\"Actual\")\n",
    "# plt.plot(X[:,0], X_b @ theta_final, 'r', lw=2, label=\"Predicted\")\n",
    "\n",
    "sorted_idx = X[:,0].argsort()\n",
    "plt.scatter(X[sorted_idx,0], y[sorted_idx], label=\"Actual\")\n",
    "plt.plot(X[sorted_idx,0], f_wb[sorted_idx], 'r', lw=2, label=\"Predicted\")\n",
    "\n",
    "plt.title(\"Feature 1 vs Target\")\n",
    "plt.xlabel(\"Original Feature 1\")\n",
    "plt.legend()\n",
    "\n",
    "plt.tight_layout()\n",
    "plt.show()"
   ]
  },
  {
   "cell_type": "code",
   "execution_count": 77,
   "id": "1644c942-881d-4591-81ed-6db66e0ee24f",
   "metadata": {},
   "outputs": [
    {
     "data": {
      "image/png": "[encoded data removed]",
      "text/plain": [
       "<Figure size 1200x800 with 1 Axes>"
      ]
     },
     "metadata": {},
     "output_type": "display_data"
    }
   ],
   "source": [
    "fig, ax = plt.subplots(figsize=(12,8))\n",
    "\n",
    "sorted_idx = X[:,0].argsort()\n",
    "ax.scatter(X[sorted_idx,0], y[sorted_idx], label=\"Actual Traning Data\")\n",
    "ax.plot(X[sorted_idx,0], f_wb[sorted_idx], 'r', lw=2, label=\"Predicted\")\n",
    "\n",
    "ax.legend(loc=2)\n",
    "ax.set_xlabel('Size')\n",
    "ax.set_ylabel('Price')\n",
    "ax.set_title('Predicted Profit vs. Population Size')\n",
    "plt.show()"
   ]
  },
  {
   "cell_type": "code",
   "execution_count": null,
   "id": "39e6d214-3f7e-4a19-9156-420f82aad9da",
   "metadata": {},
   "outputs": [],
   "source": []
  }
 ],
 "metadata": {
  "kernelspec": {
   "display_name": "Python 3 (ipykernel)",
   "language": "python",
   "name": "python3"
  },
  "language_info": {
   "codemirror_mode": {
    "name": "ipython",
    "version": 3
   },
   "file_extension": ".py",
   "mimetype": "text/x-python",
   "name": "python",
   "nbconvert_exporter": "python",
   "pygments_lexer": "ipython3",
   "version": "3.11.11"
  }
 },
 "nbformat": 4,
 "nbformat_minor": 5
}
